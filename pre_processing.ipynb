{
 "cells": [
  {
   "cell_type": "code",
   "execution_count": 1,
   "id": "b27a4bc1-2484-4735-9f8e-8b85023a0d43",
   "metadata": {},
   "outputs": [],
   "source": [
    "# creating groups of 64 slices\n",
    "\n",
    "in_path_labels = \"E:/My Projects For PortFolio/AI CV Projects/medical_image_segmentation/model_training/Software/Dataset/DicomFiles/Labels\"\n",
    "out_path_labels = \"E:\\My Projects For PortFolio\\AI CV Projects\\medical_image_segmentation\\model_training\\Software\\Dataset\\DicomGroups\\labels\""
   ]
  },
  {
   "cell_type": "code",
   "execution_count": 2,
   "id": "79958f49-4f73-49d5-9eca-d9d13d119555",
   "metadata": {},
   "outputs": [],
   "source": [
    "in_path_images = \"E:\\My Projects For PortFolio\\AI CV Projects\\medical_image_segmentation\\model_training\\Software\\Dataset\\DicomFiles\\Images\"\n",
    "out_path_images = \"E:\\My Projects For PortFolio\\AI CV Projects\\medical_image_segmentation\\model_training\\Software\\Dataset\\DicomGroups\\images\""
   ]
  },
  {
   "cell_type": "code",
   "execution_count": 3,
   "id": "5645a7e3-68dd-4003-991c-e95ac0841ffd",
   "metadata": {},
   "outputs": [],
   "source": [
    "# importing the libraries\n",
    "\n",
    "from glob import glob\n",
    "import shutil\n",
    "import os\n",
    "import dicom2nifti"
   ]
  },
  {
   "cell_type": "markdown",
   "id": "9ff55cec-dbd8-4d45-aaa8-531dcf1827df",
   "metadata": {},
   "source": [
    "# taking slices of the image"
   ]
  },
  {
   "cell_type": "code",
   "execution_count": 20,
   "id": "0e776fc1-1ed0-4e1c-a166-242076812fdc",
   "metadata": {},
   "outputs": [],
   "source": [
    "for patient in glob(in_path_labels + \"/*\"):\n",
    "    patient_name = os.path.basename(os.path.normpath(patient))\n",
    "    number_folder = int(len(glob(patient + \"/*\"))/ 64)\n",
    "\n",
    "    for i in range(number_folder):\n",
    "        output_path_name = os.path.join(out_path_labels, patient_name + \"_\" + str(i))\n",
    "\n",
    "        os.mkdir(output_path_name)\n",
    "        for i, file in enumerate(glob(patient + \"/*\")):\n",
    "            if i == 64 + 1:\n",
    "                break\n",
    "            shutil.move(file, output_path_name)"
   ]
  },
  {
   "cell_type": "code",
   "execution_count": 4,
   "id": "eaff0b71-b740-42dc-ad3c-2d41d04b09e5",
   "metadata": {},
   "outputs": [],
   "source": [
    "# convert the dicom files into nifties\n",
    "\n",
    "in_image_path = \"E:\\My Projects For PortFolio\\AI CV Projects\\medical_image_segmentation\\model_training\\Software\\Dataset\\DicomGroups\\images\\*\"\n",
    "in_label_path = \"E:\\My Projects For PortFolio\\AI CV Projects\\medical_image_segmentation\\model_training\\Software\\Dataset\\DicomGroups\\labels\\*\""
   ]
  },
  {
   "cell_type": "code",
   "execution_count": 5,
   "id": "3a65a95f-bff7-49dd-ba8a-9a4100f7839f",
   "metadata": {},
   "outputs": [],
   "source": [
    "list_images = glob(in_image_path)\n",
    "list_labels = glob(in_label_path)"
   ]
  },
  {
   "cell_type": "code",
   "execution_count": 6,
   "id": "52a6db89-2a05-48d8-a14c-e0ae6721f519",
   "metadata": {},
   "outputs": [],
   "source": [
    "image_out = \"E:/My Projects For PortFolio/AI CV Projects/medical_image_segmentation/model_training/Software/Dataset/Nifti_pre_processed/images\"\n",
    "labels_out = \"E:/My Projects For PortFolio/AI CV Projects/medical_image_segmentation/model_training/Software/Dataset/Nifti_pre_processed/labels\""
   ]
  },
  {
   "cell_type": "code",
   "execution_count": 30,
   "id": "2bd6798b-1aba-4e80-80d9-a5e939a4cc2c",
   "metadata": {},
   "outputs": [],
   "source": [
    "for patient in list_labels:\n",
    "    patient_name = os.path.basename(os.path.normpath(patient))\n",
    "    dicom2nifti.dicom_series_to_nifti(patient, os.path.join(labels_out, patient_name + \".nii.gz\"))"
   ]
  },
  {
   "cell_type": "markdown",
   "id": "ce41a793-e6a3-4497-816c-a22ab2e726d9",
   "metadata": {},
   "source": [
    "# Finding the Empty .nii files with no labels"
   ]
  },
  {
   "cell_type": "code",
   "execution_count": 34,
   "id": "3ff8cf2b-68e0-4dba-acd7-0d2fe5a689c7",
   "metadata": {},
   "outputs": [],
   "source": [
    "import nibabel as nib\n",
    "import numpy as np"
   ]
  },
  {
   "cell_type": "code",
   "execution_count": 35,
   "id": "ad7ac28b-8aff-4ceb-ac78-66b713ef7c4c",
   "metadata": {},
   "outputs": [
    {
     "name": "stdout",
     "output_type": "stream",
     "text": [
      "E:/My Projects For PortFolio/AI CV Projects/medical_image_segmentation/model_training/Software/Dataset/Nifti_pre_processed/labels\\patient_000_label_0.nii.gz\n",
      "E:/My Projects For PortFolio/AI CV Projects/medical_image_segmentation/model_training/Software/Dataset/Nifti_pre_processed/labels\\patient_000_label_1.nii.gz\n",
      "E:/My Projects For PortFolio/AI CV Projects/medical_image_segmentation/model_training/Software/Dataset/Nifti_pre_processed/labels\\patient_000_label_6.nii.gz\n",
      "E:/My Projects For PortFolio/AI CV Projects/medical_image_segmentation/model_training/Software/Dataset/Nifti_pre_processed/labels\\patient_000_label_7.nii.gz\n",
      "E:/My Projects For PortFolio/AI CV Projects/medical_image_segmentation/model_training/Software/Dataset/Nifti_pre_processed/labels\\patient_001_label_0.nii.gz\n",
      "E:/My Projects For PortFolio/AI CV Projects/medical_image_segmentation/model_training/Software/Dataset/Nifti_pre_processed/labels\\patient_001_label_3.nii.gz\n",
      "E:/My Projects For PortFolio/AI CV Projects/medical_image_segmentation/model_training/Software/Dataset/Nifti_pre_processed/labels\\patient_001_label_7.nii.gz\n",
      "E:/My Projects For PortFolio/AI CV Projects/medical_image_segmentation/model_training/Software/Dataset/Nifti_pre_processed/labels\\patient_002_label_0.nii.gz\n",
      "E:/My Projects For PortFolio/AI CV Projects/medical_image_segmentation/model_training/Software/Dataset/Nifti_pre_processed/labels\\patient_002_label_6.nii.gz\n",
      "E:/My Projects For PortFolio/AI CV Projects/medical_image_segmentation/model_training/Software/Dataset/Nifti_pre_processed/labels\\patient_002_label_7.nii.gz\n",
      "E:/My Projects For PortFolio/AI CV Projects/medical_image_segmentation/model_training/Software/Dataset/Nifti_pre_processed/labels\\patient_003_label_0.nii.gz\n",
      "E:/My Projects For PortFolio/AI CV Projects/medical_image_segmentation/model_training/Software/Dataset/Nifti_pre_processed/labels\\patient_003_label_1.nii.gz\n",
      "E:/My Projects For PortFolio/AI CV Projects/medical_image_segmentation/model_training/Software/Dataset/Nifti_pre_processed/labels\\patient_003_label_6.nii.gz\n",
      "E:/My Projects For PortFolio/AI CV Projects/medical_image_segmentation/model_training/Software/Dataset/Nifti_pre_processed/labels\\patient_003_label_7.nii.gz\n",
      "E:/My Projects For PortFolio/AI CV Projects/medical_image_segmentation/model_training/Software/Dataset/Nifti_pre_processed/labels\\patient_004_label_0.nii.gz\n",
      "E:/My Projects For PortFolio/AI CV Projects/medical_image_segmentation/model_training/Software/Dataset/Nifti_pre_processed/labels\\patient_004_label_1.nii.gz\n",
      "E:/My Projects For PortFolio/AI CV Projects/medical_image_segmentation/model_training/Software/Dataset/Nifti_pre_processed/labels\\patient_004_label_7.nii.gz\n",
      "E:/My Projects For PortFolio/AI CV Projects/medical_image_segmentation/model_training/Software/Dataset/Nifti_pre_processed/labels\\patient_005_label_0.nii.gz\n",
      "E:/My Projects For PortFolio/AI CV Projects/medical_image_segmentation/model_training/Software/Dataset/Nifti_pre_processed/labels\\patient_005_label_1.nii.gz\n",
      "E:/My Projects For PortFolio/AI CV Projects/medical_image_segmentation/model_training/Software/Dataset/Nifti_pre_processed/labels\\patient_005_label_2.nii.gz\n",
      "E:/My Projects For PortFolio/AI CV Projects/medical_image_segmentation/model_training/Software/Dataset/Nifti_pre_processed/labels\\patient_005_label_7.nii.gz\n"
     ]
    }
   ],
   "source": [
    "input_nifti_file_path = \"E:/My Projects For PortFolio/AI CV Projects/medical_image_segmentation/model_training/Software/Dataset/Nifti_pre_processed/labels/*\"\n",
    "list_labels = glob(input_nifti_file_path)\n",
    "\n",
    "for patient in list_labels:\n",
    "    nifti_file = nib.load(patient)\n",
    "    f_data = nifti_file.get_fdata()\n",
    "    np_unique = np.unique(f_data)\n",
    "    if len(np_unique) ==1:\n",
    "        print(patient)"
   ]
  },
  {
   "cell_type": "code",
   "execution_count": 6,
   "id": "31ec4945-3a0c-46f3-bbbf-96e0463997bb",
   "metadata": {},
   "outputs": [],
   "source": [
    "import os\n",
    "from glob import glob\n",
    "import shutil\n",
    "from tqdm import tqdm\n",
    "import dicom2nifti\n",
    "import numpy as np\n",
    "import nibabel as nib\n",
    "from monai.transforms import (\n",
    "    LoadImage,\n",
    "    Resized,\n",
    "    ToTensor,\n",
    "    Spacing,\n",
    "    Orientation,\n",
    "    ScaleIntensityRange,\n",
    "    CropForeground,\n",
    ")\n",
    "\n",
    "from monai.data import DataLoader, Dataset, CacheDataset\n",
    "from monai.utils import set_determinism"
   ]
  },
  {
   "cell_type": "code",
   "execution_count": 12,
   "id": "b04278c0-cb35-4853-8e17-cfd50059139b",
   "metadata": {},
   "outputs": [
    {
     "ename": "ImportError",
     "evalue": "cannot import name 'AddChanneld' from 'monai.transforms' (C:\\Users\\Admin\\anaconda3\\envs\\med_seg_kidney\\lib\\site-packages\\monai\\transforms\\__init__.py)",
     "output_type": "error",
     "traceback": [
      "\u001b[1;31m---------------------------------------------------------------------------\u001b[0m",
      "\u001b[1;31mImportError\u001b[0m                               Traceback (most recent call last)",
      "Cell \u001b[1;32mIn[12], line 1\u001b[0m\n\u001b[1;32m----> 1\u001b[0m \u001b[38;5;28;01mfrom\u001b[39;00m \u001b[38;5;21;01mmonai\u001b[39;00m\u001b[38;5;21;01m.\u001b[39;00m\u001b[38;5;21;01mtransforms\u001b[39;00m \u001b[38;5;28;01mimport\u001b[39;00m AddChanneld\n",
      "\u001b[1;31mImportError\u001b[0m: cannot import name 'AddChanneld' from 'monai.transforms' (C:\\Users\\Admin\\anaconda3\\envs\\med_seg_kidney\\lib\\site-packages\\monai\\transforms\\__init__.py)"
     ]
    }
   ],
   "source": [
    "from monai.transforms import AddChanneld"
   ]
  },
  {
   "cell_type": "code",
   "execution_count": 8,
   "id": "383606a7-4168-409a-bec7-87c2aef166f2",
   "metadata": {},
   "outputs": [],
   "source": [
    "def create_groups(in_dir, out_dir, Number_slices):\n",
    "    '''\n",
    "    This function is to get the last part of the path so that we can use it to name the folder.\n",
    "    `in_dir`: the path to your folders that contain dicom files\n",
    "    `out_dir`: the path where you want to put the converted nifti files\n",
    "    `Number_slices`: here you put the number of slices that you need for your project and it will \n",
    "    create groups with this number.\n",
    "    '''\n",
    "\n",
    "    for patient in glob(in_dir + '/*'):\n",
    "        patient_name = os.path.basename(os.path.normpath(patient))\n",
    "\n",
    "        # Here we need to calculate the number of folders which mean into how many groups we will divide the number of slices\n",
    "        number_folders = int(len(glob(patient + '/*')) / Number_slices)\n",
    "\n",
    "        for i in range(number_folders):\n",
    "            output_path = os.path.join(out_dir, patient_name + '_' + str(i))\n",
    "            os.mkdir(output_path)\n",
    "\n",
    "            # Move the slices into a specific folder so that you will save memory in your desk\n",
    "            for i, file in enumerate(glob(patient + '/*')):\n",
    "                if i == Number_slices + 1:\n",
    "                    break\n",
    "                \n",
    "                shutil.move(file, output_path)"
   ]
  },
  {
   "cell_type": "code",
   "execution_count": 9,
   "id": "0fae7bb3-cb18-46f5-bee7-99f9381fbccd",
   "metadata": {},
   "outputs": [],
   "source": [
    "def dcm2nifti(in_dir, out_dir):\n",
    "    '''\n",
    "    This function will be used to convert dicoms into nifti files after creating the groups with \n",
    "    the number of slices that you want.\n",
    "    `in_dir`: the path to the folder where you have all the patients (folder of all the groups).\n",
    "    `out_dir`: the path to the output, which means where you want to save the converted nifties.\n",
    "    '''\n",
    "\n",
    "    for folder in tqdm(glob(in_dir + '/*')):\n",
    "        patient_name = os.path.basename(os.path.normpath(folder))\n",
    "        dicom2nifti.dicom_series_to_nifti(folder, os.path.join(out_dir, patient_name + '.nii.gz'))"
   ]
  },
  {
   "cell_type": "code",
   "execution_count": 10,
   "id": "1af8a50a-e553-464e-a371-0afd985aca45",
   "metadata": {},
   "outputs": [],
   "source": [
    "def find_empy(in_dir):\n",
    "    '''\n",
    "    This function will help you to find the empty volumes that you may not need for your training\n",
    "    so instead of opening all the files and search for the empty ones, them use this function to make it quick.\n",
    "    '''\n",
    "    \n",
    "    list_patients = []\n",
    "    for patient in glob(os.path.join(in_dir, '*')):\n",
    "        img = nib.load(patient)\n",
    "\n",
    "        if len(np.unique(img.get_fdata())) > 2:\n",
    "            print(os.path.basename(os.path.normpath(patient)))\n",
    "            list_patients.append(os.path.basename(os.path.normpath(patient)))\n",
    "    \n",
    "    return list_patients"
   ]
  },
  {
   "cell_type": "code",
   "execution_count": 13,
   "id": "7ec15f20-329a-412a-a6e9-57a0cbc60c63",
   "metadata": {},
   "outputs": [],
   "source": [
    "def prepare(in_dir, pixdim=(1.5, 1.5, 1.0), a_min=-200, a_max=200, spatial_size=[128,128,64], cache=False):\n",
    "\n",
    "    \"\"\"\n",
    "    This function is for preprocessing, it contains only the basic transforms, but you can add more operations that you \n",
    "    find in the Monai documentation.\n",
    "    https://monai.io/docs.html\n",
    "    \"\"\"\n",
    "\n",
    "    set_determinism(seed=0)\n",
    "\n",
    "    path_train_volumes = sorted(glob(os.path.join(in_dir, \"TrainVolumes\", \"*.nii.gz\")))\n",
    "    path_train_segmentation = sorted(glob(os.path.join(in_dir, \"TrainSegmentation\", \"*.nii.gz\")))\n",
    "\n",
    "    path_test_volumes = sorted(glob(os.path.join(in_dir, \"TestVolumes\", \"*.nii.gz\")))\n",
    "    path_test_segmentation = sorted(glob(os.path.join(in_dir, \"TestSegmentation\", \"*.nii.gz\")))\n",
    "\n",
    "    train_files = [{\"vol\": image_name, \"seg\": label_name} for image_name, label_name in zip(path_train_volumes, path_train_segmentation)]\n",
    "    test_files = [{\"vol\": image_name, \"seg\": label_name} for image_name, label_name in zip(path_test_volumes, path_test_segmentation)]\n",
    "\n",
    "    train_transforms = Compose(\n",
    "        [\n",
    "            LoadImaged(keys=[\"vol\", \"seg\"]),\n",
    "            AddChanneld(keys=[\"vol\", \"seg\"]),\n",
    "            Spacingd(keys=[\"vol\", \"seg\"], pixdim=pixdim, mode=(\"bilinear\", \"nearest\")),\n",
    "            Orientationd(keys=[\"vol\", \"seg\"], axcodes=\"RAS\"),\n",
    "            ScaleIntensityRanged(keys=[\"vol\"], a_min=a_min, a_max=a_max, b_min=0.0, b_max=1.0, clip=True), \n",
    "            CropForegroundd(keys=[\"vol\", \"seg\"], source_key=\"vol\"),\n",
    "            Resized(keys=[\"vol\", \"seg\"], spatial_size=spatial_size),   \n",
    "            ToTensord(keys=[\"vol\", \"seg\"]),\n",
    "\n",
    "        ]\n",
    "    )\n",
    "\n",
    "    test_transforms = Compose(\n",
    "        [\n",
    "            LoadImaged(keys=[\"vol\", \"seg\"]),\n",
    "            AddChanneld(keys=[\"vol\", \"seg\"]),\n",
    "            Spacingd(keys=[\"vol\", \"seg\"], pixdim=pixdim, mode=(\"bilinear\", \"nearest\")),\n",
    "            Orientationd(keys=[\"vol\", \"seg\"], axcodes=\"RAS\"),\n",
    "            ScaleIntensityRanged(keys=[\"vol\"], a_min=a_min, a_max=a_max,b_min=0.0, b_max=1.0, clip=True), \n",
    "            CropForegroundd(keys=['vol', 'seg'], source_key='vol'),\n",
    "            Resized(keys=[\"vol\", \"seg\"], spatial_size=spatial_size),   \n",
    "            ToTensord(keys=[\"vol\", \"seg\"]),\n",
    "\n",
    "            \n",
    "        ]\n",
    "    )\n",
    "\n",
    "    if cache:\n",
    "        train_ds = CacheDataset(data=train_files, transform=train_transforms,cache_rate=1.0)\n",
    "        train_loader = DataLoader(train_ds, batch_size=1)\n",
    "\n",
    "        test_ds = CacheDataset(data=test_files, transform=test_transforms, cache_rate=1.0)\n",
    "        test_loader = DataLoader(test_ds, batch_size=1)\n",
    "\n",
    "        return train_loader, test_loader\n",
    "\n",
    "    else:\n",
    "        train_ds = Dataset(data=train_files, transform=train_transforms)\n",
    "        train_loader = DataLoader(train_ds, batch_size=1)\n",
    "\n",
    "        test_ds = Dataset(data=test_files, transform=test_transforms)\n",
    "        test_loader = DataLoader(test_ds, batch_size=1)\n",
    "\n",
    "        return train_loader, test_loader\n"
   ]
  },
  {
   "cell_type": "code",
   "execution_count": 15,
   "id": "48ef8fab-4f9b-4063-a2d0-b6f54add62b5",
   "metadata": {},
   "outputs": [],
   "source": [
    "from monai.networks.nets import UNet\n",
    "from monai.networks.layers import Norm\n",
    "from monai.losses import DiceLoss, DiceCELoss\n",
    "import torch"
   ]
  },
  {
   "cell_type": "code",
   "execution_count": null,
   "id": "b5ecf91b-a917-4423-8fa5-ca0b5e6cd947",
   "metadata": {},
   "outputs": [],
   "source": []
  }
 ],
 "metadata": {
  "kernelspec": {
   "display_name": "Python 3 (ipykernel)",
   "language": "python",
   "name": "python3"
  },
  "language_info": {
   "codemirror_mode": {
    "name": "ipython",
    "version": 3
   },
   "file_extension": ".py",
   "mimetype": "text/x-python",
   "name": "python",
   "nbconvert_exporter": "python",
   "pygments_lexer": "ipython3",
   "version": "3.8.18"
  }
 },
 "nbformat": 4,
 "nbformat_minor": 5
}
